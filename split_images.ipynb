{
 "cells": [
  {
   "cell_type": "code",
   "execution_count": 1,
   "id": "2aab8a28",
   "metadata": {},
   "outputs": [],
   "source": [
    "import os\n",
    "from PIL import Image\n",
    "from itertools import product"
   ]
  },
  {
   "cell_type": "code",
   "execution_count": null,
   "id": "b52e96f4",
   "metadata": {},
   "outputs": [],
   "source": [
    "def tile(filename, dir_in, dir_out, d):\n",
    "    name, ext = os.path.splitext(filename)\n",
    "    img = Image.open(os.path.join(dir_in, filename))\n",
    "    w, h = img.size\n",
    "    \n",
    "    grid = product(range(0, h-h%d, d), range(0, w-w%d, d))\n",
    "    for i, j in grid:\n",
    "        box = (j, i, j+d, i+d)\n",
    "        out = os.path.join(dir_out, f'{name}_{i}_{j}{ext}')\n",
    "        img.crop(box).save(out)"
   ]
  },
  {
   "cell_type": "code",
   "execution_count": 4,
   "id": "e3288134",
   "metadata": {},
   "outputs": [],
   "source": [
    "tile(\n",
    "    \"TopDownHouse_FurnitureState1.png\",\n",
    "    \"/home/tim/projekte/bar_website/streamlit-dungeon/graphics\",\n",
    "    \"/home/tim/projekte/bar_website/streamlit-dungeon/graphics/splitted_images\",\n",
    "    16)"
   ]
  },
  {
   "cell_type": "markdown",
   "id": "5b37b68c",
   "metadata": {},
   "source": [
    "---"
   ]
  },
  {
   "cell_type": "code",
   "execution_count": 9,
   "id": "f7497877",
   "metadata": {},
   "outputs": [],
   "source": [
    "filename = \"TopDownHouse_FurnitureState1.png\"\n",
    "dir_in = \"/home/tim/projekte/bar_website/streamlit-dungeon/graphics\"\n",
    "d = 16\n",
    "\n",
    "\n",
    "name, ext = os.path.splitext(filename)\n",
    "img = Image.open(os.path.join(dir_in, filename))\n",
    "w, h = img.size\n",
    "\n",
    "grid = product(range(0, h-h%d, d), range(0, w-w%d, d))"
   ]
  },
  {
   "cell_type": "code",
   "execution_count": 14,
   "id": "58468714",
   "metadata": {},
   "outputs": [
    {
     "name": "stdout",
     "output_type": "stream",
     "text": [
      "0\n",
      "0\n"
     ]
    }
   ],
   "source": [
    "for i, j in grid:\n",
    "    print(i)\n",
    "    print(j)\n",
    "    break"
   ]
  },
  {
   "cell_type": "code",
   "execution_count": 15,
   "id": "67e12014",
   "metadata": {},
   "outputs": [
    {
     "data": {
      "text/plain": [
       "13.0"
      ]
     },
     "execution_count": 15,
     "metadata": {},
     "output_type": "execute_result"
    }
   ],
   "source": [
    "w/16"
   ]
  },
  {
   "cell_type": "code",
   "execution_count": 16,
   "id": "8061b590",
   "metadata": {},
   "outputs": [
    {
     "data": {
      "text/plain": [
       "18.0"
      ]
     },
     "execution_count": 16,
     "metadata": {},
     "output_type": "execute_result"
    }
   ],
   "source": [
    "h/16"
   ]
  },
  {
   "cell_type": "markdown",
   "id": "bd6703a4",
   "metadata": {},
   "source": [
    "---"
   ]
  },
  {
   "cell_type": "code",
   "execution_count": 6,
   "id": "3baaf91b",
   "metadata": {},
   "outputs": [
    {
     "name": "stdout",
     "output_type": "stream",
     "text": [
      "Defaulting to user installation because normal site-packages is not writeable\n",
      "Collecting split-image\n",
      "  Using cached split_image-2.0.1-py3-none-any.whl.metadata (5.2 kB)\n",
      "Requirement already satisfied: Pillow in /usr/lib64/python3.12/site-packages (from split-image) (10.3.0)\n",
      "Using cached split_image-2.0.1-py3-none-any.whl (6.6 kB)\n",
      "Installing collected packages: split-image\n",
      "\u001b[33m  WARNING: The script split-image is installed in '/home/tim/.local/bin' which is not on PATH.\n",
      "  Consider adding this directory to PATH or, if you prefer to suppress this warning, use --no-warn-script-location.\u001b[0m\u001b[33m\n",
      "\u001b[0mSuccessfully installed split-image-2.0.1\n"
     ]
    }
   ],
   "source": [
    "!pip install split-image"
   ]
  },
  {
   "cell_type": "code",
   "execution_count": 7,
   "id": "af858a98",
   "metadata": {},
   "outputs": [],
   "source": [
    "from split_image import split_image\n"
   ]
  },
  {
   "cell_type": "code",
   "execution_count": 19,
   "id": "1ea5a4cd",
   "metadata": {},
   "outputs": [],
   "source": [
    "split_image(\"/home/tim/projekte/bar_website/streamlit-dungeon/graphics/TopDownHouse_FurnitureState1.png\", \n",
    "            13, \n",
    "            18,\n",
    "            False,\n",
    "            False,\n",
    "            [\"/home/tim/projekte/bar_website/streamlit-dungeon/graphics/splitted2\"])\n",
    "# e.g. split_image(\"bridge.jpg\", 2, 2, True, False)"
   ]
  }
 ],
 "metadata": {
  "kernelspec": {
   "display_name": "Python 3",
   "language": "python",
   "name": "python3"
  },
  "language_info": {
   "codemirror_mode": {
    "name": "ipython",
    "version": 3
   },
   "file_extension": ".py",
   "mimetype": "text/x-python",
   "name": "python",
   "nbconvert_exporter": "python",
   "pygments_lexer": "ipython3",
   "version": "3.12.9"
  }
 },
 "nbformat": 4,
 "nbformat_minor": 5
}
